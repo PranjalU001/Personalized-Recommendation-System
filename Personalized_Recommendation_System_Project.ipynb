{
 "cells": [
  {
   "cell_type": "markdown",
   "id": "c15cc2d5",
   "metadata": {},
   "source": [
    "# Personalized Recommendation System\n",
    "\n",
    "A simple hybrid recommender system using content-based and collaborative filtering techniques."
   ]
  },
  {
   "cell_type": "markdown",
   "id": "5b9706f1",
   "metadata": {},
   "source": [
    "## 1. Install Required Libraries"
   ]
  },
  {
   "cell_type": "code",
   "execution_count": null,
   "id": "b3f6a229",
   "metadata": {},
   "outputs": [],
   "source": [
    "!pip install pandas numpy scikit-learn matplotlib scikit-surprise"
   ]
  },
  {
   "cell_type": "markdown",
   "id": "ca16906b",
   "metadata": {},
   "source": [
    "## 2. Import Libraries"
   ]
  },
  {
   "cell_type": "code",
   "execution_count": null,
   "id": "80cd9aae",
   "metadata": {},
   "outputs": [],
   "source": [
    "\n",
    "import pandas as pd\n",
    "import numpy as np\n",
    "from sklearn.feature_extraction.text import TfidfVectorizer\n",
    "from sklearn.metrics.pairwise import cosine_similarity\n",
    "from surprise import SVD, Dataset, Reader\n",
    "from surprise.model_selection import train_test_split\n",
    "import matplotlib.pyplot as plt\n",
    "    "
   ]
  },
  {
   "cell_type": "markdown",
   "id": "001240f0",
   "metadata": {},
   "source": [
    "## 3. Load Sample Dataset (MovieLens 100k)"
   ]
  },
  {
   "cell_type": "code",
   "execution_count": null,
   "id": "e648d50c",
   "metadata": {},
   "outputs": [],
   "source": [
    "\n",
    "# Load built-in MovieLens 100k dataset\n",
    "data = Dataset.load_builtin('ml-100k')\n",
    "trainset, testset = train_test_split(data, test_size=0.2)\n",
    "    "
   ]
  },
  {
   "cell_type": "markdown",
   "id": "1b02db9a",
   "metadata": {},
   "source": [
    "## 4. Train Collaborative Filtering Model (SVD)"
   ]
  },
  {
   "cell_type": "code",
   "execution_count": null,
   "id": "eea57610",
   "metadata": {},
   "outputs": [],
   "source": [
    "\n",
    "model = SVD()\n",
    "model.fit(trainset)\n",
    "    "
   ]
  },
  {
   "cell_type": "markdown",
   "id": "3611a42e",
   "metadata": {},
   "source": [
    "## 5. Predict Ratings for Sample User"
   ]
  },
  {
   "cell_type": "code",
   "execution_count": null,
   "id": "18c83cee",
   "metadata": {},
   "outputs": [],
   "source": [
    "\n",
    "# Predict rating for a specific user and item\n",
    "prediction = model.predict(uid='196', iid='302')\n",
    "print(f\"Predicted Rating: {prediction.est:.2f}\")\n",
    "    "
   ]
  },
  {
   "cell_type": "markdown",
   "id": "49b01334",
   "metadata": {},
   "source": [
    "## 6. Load Movies Metadata for Content-Based Filtering"
   ]
  },
  {
   "cell_type": "code",
   "execution_count": null,
   "id": "b947d8b3",
   "metadata": {},
   "outputs": [],
   "source": [
    "\n",
    "# Load sample movie metadata file (you can replace this with your own)\n",
    "# This file should contain at least: movieId, title, genres\n",
    "movies = pd.read_csv('https://raw.githubusercontent.com/sidooms/MovieTweetings/master/latest/movies.dat', sep='::', \n",
    "                     engine='python', header=None, names=['movieId', 'title', 'genres'])\n",
    "movies['genres'] = movies['genres'].fillna('')\n",
    "movies.head()\n",
    "    "
   ]
  },
  {
   "cell_type": "markdown",
   "id": "d7d4e242",
   "metadata": {},
   "source": [
    "## 7. Content-Based Filtering (TF-IDF + Cosine Similarity)"
   ]
  },
  {
   "cell_type": "code",
   "execution_count": null,
   "id": "596db482",
   "metadata": {},
   "outputs": [],
   "source": [
    "\n",
    "tfidf = TfidfVectorizer(stop_words='english')\n",
    "tfidf_matrix = tfidf.fit_transform(movies['genres'])\n",
    "cosine_sim = cosine_similarity(tfidf_matrix, tfidf_matrix)\n",
    "    "
   ]
  },
  {
   "cell_type": "markdown",
   "id": "1073baf8",
   "metadata": {},
   "source": [
    "## 8. Hybrid Recommendation Function"
   ]
  },
  {
   "cell_type": "code",
   "execution_count": null,
   "id": "74f33ab7",
   "metadata": {},
   "outputs": [],
   "source": [
    "\n",
    "# Function to get top similar movies\n",
    "def get_recommendations(title, cosine_sim=cosine_sim):\n",
    "    indices = pd.Series(movies.index, index=movies['title']).drop_duplicates()\n",
    "    idx = indices[title]\n",
    "    sim_scores = list(enumerate(cosine_sim[idx]))\n",
    "    sim_scores = sorted(sim_scores, key=lambda x: x[1], reverse=True)\n",
    "    sim_scores = sim_scores[1:6]\n",
    "    movie_indices = [i[0] for i in sim_scores]\n",
    "    return movies['title'].iloc[movie_indices]\n",
    "\n",
    "# Example usage\n",
    "get_recommendations('Toy Story (1995)')\n",
    "    "
   ]
  },
  {
   "cell_type": "markdown",
   "id": "9169c37a",
   "metadata": {},
   "source": [
    "## 9. Conclusion"
   ]
  },
  {
   "cell_type": "markdown",
   "id": "7526cab6",
   "metadata": {},
   "source": [
    "\n",
    "- We built a simple hybrid recommendation system.\n",
    "- Content-based filtering used genres to find similar items.\n",
    "- Collaborative filtering used SVD to predict ratings.\n",
    "- You can enhance this by combining both results and ranking them.\n",
    "    "
   ]
  },
  {
   "cell_type": "markdown",
   "id": "d944c797",
   "metadata": {},
   "source": [
    "## 10. References"
   ]
  },
  {
   "cell_type": "markdown",
   "id": "897ffa90",
   "metadata": {},
   "source": [
    "\n",
    "1. scikit-learn Documentation – https://scikit-learn.org  \n",
    "2. Surprise Library – https://surpriselib.com  \n",
    "3. MovieLens Dataset – https://grouplens.org/datasets/movielens  \n",
    "4. Python Docs – https://docs.python.org/3/  \n",
    "5. Jupyter Project – https://jupyter.org  \n",
    "    "
   ]
  }
 ],
 "metadata": {},
 "nbformat": 4,
 "nbformat_minor": 5
}
